{
 "cells": [
  {
   "cell_type": "code",
   "execution_count": 18,
   "metadata": {},
   "outputs": [
    {
     "name": "stdout",
     "output_type": "stream",
     "text": [
      "Enter the first side:5\n",
      "Enter the second side:4\n",
      "Enter the third side:3\n",
      "Area of triangle:6.0 sq metre\n"
     ]
    }
   ],
   "source": [
    "#1.1\n",
    "\n",
    "class sides:\n",
    "    def __init__(self,a,b,c):\n",
    "        self.a=a\n",
    "        self.b=b\n",
    "        self.c=c\n",
    "class area(sides):\n",
    "        def __init__(self,a,b,c):\n",
    "            super().__init__(a,b,c)\n",
    "        def area_triangle(self):\n",
    "            s=(self.a+self.b+self.c)/2\n",
    "            result=(s*(s-self.a)*(s-self.b)*(s-self.c)) ** 0.5\n",
    "            return result\n",
    "            \n",
    "a=int(input(\"Enter the first side:\"))\n",
    "b=int(input(\"Enter the second side:\"))\n",
    "c=int(input(\"Enter the third side:\"))\n",
    "x=area(a,b,c)\n",
    "print(\"Area of triangle:\"+ str(x.area_triangle())+\" sq meters\")\n",
    "\n",
    "    \n",
    "        "
   ]
  },
  {
   "cell_type": "code",
   "execution_count": 26,
   "metadata": {},
   "outputs": [
    {
     "data": {
      "text/plain": [
       "['Quickest', 'hands', 'the', 'west']"
      ]
     },
     "execution_count": 26,
     "metadata": {},
     "output_type": "execute_result"
    }
   ],
   "source": [
    "#1.2\n",
    "\n",
    "def filter_long_words(lst,n):\n",
    "    lst1=[]\n",
    "    return list(filter(lambda i:len(i)>n,lst))\n",
    "    \n",
    "    \n",
    "lst=[\"Quickest\",\"hands\",\"on\",\"the\",\"west\"]\n",
    "filter_long_words(lst,2)\n"
   ]
  },
  {
   "cell_type": "code",
   "execution_count": 40,
   "metadata": {},
   "outputs": [
    {
     "data": {
      "text/plain": [
       "[2, 3, 4]"
      ]
     },
     "execution_count": 40,
     "metadata": {},
     "output_type": "execute_result"
    }
   ],
   "source": [
    "#2.1\n",
    "\n",
    "lst=['ab','cde','erty']\n",
    "x=map(lambda i:len(i),lst)\n",
    "list(x)"
   ]
  },
  {
   "cell_type": "code",
   "execution_count": 44,
   "metadata": {},
   "outputs": [
    {
     "name": "stdout",
     "output_type": "stream",
     "text": [
      "enter the character:b\n"
     ]
    },
    {
     "data": {
      "text/plain": [
       "False"
      ]
     },
     "execution_count": 44,
     "metadata": {},
     "output_type": "execute_result"
    }
   ],
   "source": [
    "#2.2\n",
    "\n",
    "lst=['a','e','i','o','u','A','E','I','O','U']\n",
    "def vowel(str):\n",
    "    if str in lst:\n",
    "        return True\n",
    "    else:\n",
    "        return False\n",
    "    \n",
    "ch=input(\"enter the character:\")\n",
    "vowel(ch)\n"
   ]
  }
 ],
 "metadata": {
  "kernelspec": {
   "display_name": "Python 3",
   "language": "python",
   "name": "python3"
  },
  "language_info": {
   "codemirror_mode": {
    "name": "ipython",
    "version": 3
   },
   "file_extension": ".py",
   "mimetype": "text/x-python",
   "name": "python",
   "nbconvert_exporter": "python",
   "pygments_lexer": "ipython3",
   "version": "3.8.5"
  }
 },
 "nbformat": 4,
 "nbformat_minor": 4
}
